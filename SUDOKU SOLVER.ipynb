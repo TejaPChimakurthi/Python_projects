{
 "cells": [
  {
   "cell_type": "markdown",
   "id": "6a192a0b",
   "metadata": {},
   "source": [
    "Creating an Sudoku Puzzle Solver in Python"
   ]
  },
  {
   "cell_type": "markdown",
   "id": "9fe48ad8",
   "metadata": {},
   "source": [
    "In this program, I had created 4 def functions.\n",
    "\n",
    "One to display the result --> Def function is display.\n",
    "\n",
    "Second one is to check the value in the row, column and 3*3 matrix/block --> Def function is checker.\n",
    "\n",
    "Thrid one is to track  the columns and rows --> Def function is sudoku .\n",
    "\n",
    "The last one is to reshape the input. --> Def function is net_list\n"
   ]
  },
  {
   "cell_type": "markdown",
   "id": "2a081a74",
   "metadata": {},
   "source": [
    "Variables in this program are :\n",
    "\n",
    "Size which gives the squared matrix of n, example : 9 X 9 matrix , size will be 9\n",
    "\n",
    "Grid variable is input value."
   ]
  },
  {
   "cell_type": "code",
   "execution_count": 1,
   "id": "29c4a305",
   "metadata": {},
   "outputs": [],
   "source": [
    "#DISPLAY FUNCTION\n",
    "\n",
    "def display(a):\n",
    "    for i in range(9):\n",
    "        for j in range(9):\n",
    "            print(a[i][j], end=' ')\n",
    "        print()"
   ]
  },
  {
   "cell_type": "code",
   "execution_count": 10,
   "id": "7837dd85",
   "metadata": {},
   "outputs": [],
   "source": [
    "# SUDOKU FUNCTION\n",
    "\n",
    "def sudoku(grid, row, col):\n",
    "    if (row == size-1 and col == size):\n",
    "        return True\n",
    "    if col == size:\n",
    "        row += 1\n",
    "        col = 0\n",
    "    if int(grid[row][col]) > 0:\n",
    "        return sudoku(grid, row, col + 1)\n",
    "    for num in range(1, size+1, 1):\n",
    "        if checker(grid, row, col, num):\n",
    "            grid[row][col] = num\n",
    "            if sudoku(grid, row, col + 1):\n",
    "                return True\n",
    "        grid[row][col] = 0\n",
    "    return False "
   ]
  },
  {
   "cell_type": "code",
   "execution_count": 11,
   "id": "6b279df5",
   "metadata": {},
   "outputs": [],
   "source": [
    "#CHECKER FUNCTION\n",
    "\n",
    "def checker(grid, row, col, num):\n",
    "    for x in range(9):\n",
    "        if int(grid[row][x]) == num:\n",
    "            return False  \n",
    "    for x in range(9):   \n",
    "        if int(grid[x][col]) == num:\n",
    "            return False    \n",
    "    start_row = row - (row % 3)\n",
    "    start_col = col - (col % 3)    \n",
    "    for i in range(3):\n",
    "        for j in range(3):\n",
    "            if int(grid[i + start_row][j+ start_col]) == num:\n",
    "                return False\n",
    "                \n",
    "    return True    "
   ]
  },
  {
   "cell_type": "code",
   "execution_count": 12,
   "id": "e0215982",
   "metadata": {},
   "outputs": [],
   "source": [
    "#converting the list(input from user) into nested list\n",
    "\n",
    "def net_list(lis, rows, cols):\n",
    "    result = []\n",
    "    start = 0\n",
    "    end = cols\n",
    "    for i in range(rows):\n",
    "        result.append(lis[start:end])\n",
    "        start += cols\n",
    "        end += cols\n",
    "    return result"
   ]
  },
  {
   "cell_type": "code",
   "execution_count": 17,
   "id": "4c537dca",
   "metadata": {},
   "outputs": [
    {
     "name": "stdout",
     "output_type": "stream",
     "text": [
      "please Enter an 9X9 matrix:000600400700003600000091080000000000050180003000306045040200060903000000020000100\n",
      "Please find the solution: \n",
      "5 8 1 6 7 2 4 3 9 \n",
      "7 9 2 8 4 3 6 5 1 \n",
      "3 6 4 5 9 1 7 8 2 \n",
      "4 3 8 9 5 7 2 1 6 \n",
      "2 5 6 1 8 4 9 7 3 \n",
      "1 7 9 3 2 6 8 4 5 \n",
      "8 4 5 2 1 9 3 6 7 \n",
      "9 1 3 7 6 8 5 2 4 \n",
      "6 2 7 4 3 5 1 9 8 \n"
     ]
    }
   ],
   "source": [
    "# Declaring the input \n",
    "\n",
    "size = 9\n",
    "\n",
    "grid = list(input(\"please Enter an 9X9 matrix: \"))\n",
    "\n",
    "#Converting the strings in the list into intergers\n",
    "\n",
    "grid_int = []\n",
    "\n",
    "for i in range(0, len(grid)):\n",
    "    for j in range(0,len(grid[i])):\n",
    "        b = int(grid[i][j])\n",
    "        grid_int.append(b)\n",
    "\n",
    "\n",
    "# calling the nested function.\n",
    "grid1 = net_list(grid_int, 9, 9)\n",
    "\n",
    "\n",
    "# solving the sudoku\n",
    "\n",
    "if sudoku(grid1, 0 , 0):\n",
    "    print(\"Please find the solution: \")\n",
    "    display(grid1)\n",
    "else:\n",
    "    print(\"Solution does not exist, Please check the input\")"
   ]
  },
  {
   "cell_type": "code",
   "execution_count": null,
   "id": "3bdfbb69",
   "metadata": {},
   "outputs": [],
   "source": []
  }
 ],
 "metadata": {
  "kernelspec": {
   "display_name": "Python 3",
   "language": "python",
   "name": "python3"
  },
  "language_info": {
   "codemirror_mode": {
    "name": "ipython",
    "version": 3
   },
   "file_extension": ".py",
   "mimetype": "text/x-python",
   "name": "python",
   "nbconvert_exporter": "python",
   "pygments_lexer": "ipython3",
   "version": "3.8.8"
  }
 },
 "nbformat": 4,
 "nbformat_minor": 5
}
